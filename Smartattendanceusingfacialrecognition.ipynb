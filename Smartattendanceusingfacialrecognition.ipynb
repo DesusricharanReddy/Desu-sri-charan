{
 "cells": [
  {
   "cell_type": "code",
   "execution_count": 3,
   "id": "77daf285",
   "metadata": {},
   "outputs": [
    {
     "name": "stdout",
     "output_type": "stream",
     "text": [
      "['Tesla ', 'MSDHONI']\n",
      "['MSDHONI']\n"
     ]
    }
   ],
   "source": [
    "import face_recognition\n",
    "import cv2\n",
    "import numpy as np\n",
    "import csv\n",
    "from datetime import datetime\n",
    "\n",
    "video_capture = cv2.VideoCapture(0)\n",
    "\n",
    "# Loading face images\n",
    "k1 = face_recognition.load_image_file(r\"C:\\Users\\Sri Charan Reddy\\Downloads\\R (1).jpg\")\n",
    "k2 = face_recognition.load_image_file(r\"C:\\Users\\Sri Charan Reddy\\Downloads\\a195f167-6baa-4609-b684-2f56992d106f.jpg\")\n",
    "k3 = face_recognition.load_image_file(r\"C:\\Users\\Sri Charan Reddy\\Downloads\\ms-dhoni-47.webp\")\n",
    "\n",
    "# Encoding faces\n",
    "k1_enco = face_recognition.face_encodings(k1)[0]\n",
    "k2_enco = face_recognition.face_encodings(k2)[0]\n",
    "k3_enco = face_recognition.face_encodings(k3)[0]\n",
    "k = [k1_enco, k2_enco, k3_enco]\n",
    "\n",
    "k_name = ['Tesla ', 'Niranjanreddy ', 'MSDHONI']\n",
    "crick = k_name[:]\n",
    "\n",
    "face_locations = []\n",
    "face_name = []\n",
    "face_encodings = []\n",
    "\n",
    "now = datetime.now()\n",
    "currentdate = now.strftime(\"%Y-%m-%d\")\n",
    "fr = open(currentdate + '.csv', 'w+', newline='')\n",
    "lnwriter = csv.writer(fr)\n",
    "\n",
    "while True:\n",
    "    _, frame = video_capture.read()\n",
    "    o_frame = cv2.resize(frame, (0, 0), fx=0.25, fy=0.25)\n",
    "    rgbframe = o_frame[:, :, ::-1]\n",
    "\n",
    "    # Inside the while loop\n",
    "    face_locations = face_recognition.face_locations(o_frame)\n",
    "    face_encodings = face_recognition.face_encodings(o_frame, face_locations)\n",
    "\n",
    "\n",
    "    for face_encodi in face_encodings:\n",
    "        match = face_recognition.compare_faces(k, face_encodi)\n",
    "        name = \"\"\n",
    "        face_dist = face_recognition.face_distance(k, face_encodi)\n",
    "        best_face = np.argmin(face_dist)\n",
    "        if match[best_face]:\n",
    "            name = k_name[best_face]\n",
    "\n",
    "        face_name.append(name)\n",
    "        if name in k_name:\n",
    "            font = cv2.FONT_HERSHEY_SIMPLEX\n",
    "            Cordi = (10, 100)\n",
    "            fontScale = 1.5\n",
    "            fontColor = (255, 0, 0)qqqq\n",
    "            thickness = 3\n",
    "            lineType = 2\n",
    "\n",
    "            cv2.putText(frame, name + ' Present', Cordi, font, fontScale, fontColor, thickness, lineType)\n",
    "\n",
    "            if name in crick:\n",
    "                crick.remove(name)\n",
    "                print(crick)\n",
    "                currenttime = datetime.now().strftime('%H-%M-%S')\n",
    "                lnwriter.writerow([name, currenttime])\n",
    "\n",
    "    cv2.imshow('Attendance System', frame)\n",
    "\n",
    "    if cv2.waitKey(1) & 0xFF == ord('q'):\n",
    "        break\n",
    "\n",
    "video_capture.release()\n",
    "cv2.destroyAllWindows()\n",
    "fr.close()\n"
   ]
  },
  {
   "cell_type": "code",
   "execution_count": null,
   "id": "e7a86266",
   "metadata": {},
   "outputs": [],
   "source": []
  },
  {
   "cell_type": "code",
   "execution_count": null,
   "id": "e03c2379",
   "metadata": {},
   "outputs": [],
   "source": []
  },
  {
   "cell_type": "code",
   "execution_count": null,
   "id": "0e1c20b2",
   "metadata": {},
   "outputs": [],
   "source": []
  },
  {
   "cell_type": "code",
   "execution_count": null,
   "id": "d7af41de",
   "metadata": {},
   "outputs": [],
   "source": []
  }
 ],
 "metadata": {
  "kernelspec": {
   "display_name": "Python 3 (ipykernel)",
   "language": "python",
   "name": "python3"
  },
  "language_info": {
   "codemirror_mode": {
    "name": "ipython",
    "version": 3
   },
   "file_extension": ".py",
   "mimetype": "text/x-python",
   "name": "python",
   "nbconvert_exporter": "python",
   "pygments_lexer": "ipython3",
   "version": "3.10.9"
  }
 },
 "nbformat": 4,
 "nbformat_minor": 5
}
